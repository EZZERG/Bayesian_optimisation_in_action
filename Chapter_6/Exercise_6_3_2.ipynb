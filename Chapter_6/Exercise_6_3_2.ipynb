{
 "cells": [
  {
   "cell_type": "code",
   "execution_count": 1,
   "metadata": {},
   "outputs": [],
   "source": [
    "import torch\n",
    "\n",
    "torch.manual_seed(0)\n",
    "\n",
    "import gpytorch\n",
    "import botorch\n",
    "\n",
    "import matplotlib.pyplot as plt\n",
    "\n",
    "plt.style.use(\"bmh\")\n",
    "\n",
    "from tqdm.notebook import tqdm\n",
    "\n",
    "import warnings"
   ]
  },
  {
   "cell_type": "code",
   "execution_count": 2,
   "metadata": {},
   "outputs": [],
   "source": [
    "def f(x):\n",
    "    return (\n",
    "        torch.sin(5 * x[..., 0] / 2 - 2.5) * torch.cos(2.5 - 5 * x[..., 1])\n",
    "        + (5 * x[..., 1] / 2 + 0.5) ** 2 / 10\n",
    "    ) / 5 + 0.2\n",
    "\n",
    "\n",
    "lb = 0\n",
    "ub = 2\n",
    "num_queries = 20\n",
    "\n",
    "bounds = torch.tensor([[lb, lb], [ub, ub]], dtype=torch.float)\n",
    "\n",
    "xs = torch.linspace(lb, ub, 101)\n",
    "x1, x2 = torch.meshgrid(xs, xs, indexing=\"ij\")\n",
    "xs = torch.vstack((x1.flatten(), x2.flatten())).transpose(-1, -2)\n",
    "ys = f(xs)"
   ]
  },
  {
   "cell_type": "code",
   "execution_count": 3,
   "metadata": {},
   "outputs": [],
   "source": [
    "def visualize_progress_and_policy(policy, next_x=None):\n",
    "    with torch.no_grad():\n",
    "        acquisition_score = policy(xs.unsqueeze(1))\n",
    "\n",
    "    fig, ax = plt.subplots(1, 2, figsize=(16, 6), sharey=True)\n",
    "\n",
    "    # ground truth\n",
    "    c = ax[0].imshow(ys.reshape(101, 101).T, origin=\"lower\", extent=[lb, ub, lb, ub])\n",
    "    ax[0].set_xlabel(r\"$C$\", fontsize=20)\n",
    "    ax[0].set_ylabel(r\"$\\gamma$\", fontsize=20)\n",
    "    plt.colorbar(c, ax=ax[0])\n",
    "\n",
    "    ax[0].scatter(train_x[..., 0], train_x[..., 1], marker=\"x\", c=\"k\")\n",
    "\n",
    "    ax[0].set_title(\"ground truth\")\n",
    "\n",
    "    # acquisition score\n",
    "    c = ax[1].imshow(\n",
    "        acquisition_score.reshape(101, 101).T, origin=\"lower\", extent=[lb, ub, lb, ub]\n",
    "    )\n",
    "    ax[1].set_xlabel(r\"$C$\", fontsize=20)\n",
    "    plt.colorbar(c, ax=ax[1])\n",
    "\n",
    "    ax[1].scatter(\n",
    "        train_x[..., 0], train_x[..., 1], marker=\"x\", c=\"k\", label=\"observations\"\n",
    "    )\n",
    "    if next_x is not None:\n",
    "        ax[1].scatter(\n",
    "            next_x[..., 0], next_x[..., 1], c=\"r\", marker=\"*\", s=500, label=\"next query\"\n",
    "        )\n",
    "\n",
    "    ax[1].legend()\n",
    "    ax[1].set_title(\"acq. score\")\n",
    "\n",
    "    plt.show()"
   ]
  },
  {
   "cell_type": "code",
   "execution_count": 4,
   "metadata": {},
   "outputs": [],
   "source": [
    "class GPModel(gpytorch.models.ExactGP, botorch.models.gpytorch.GPyTorchModel):\n",
    "    _num_outputs = 1\n",
    "\n",
    "    def __init__(self, train_x, train_y, likelihood):\n",
    "        super().__init__(train_x, train_y, likelihood)\n",
    "        self.mean_module = gpytorch.means.ConstantMean()\n",
    "        self.covar_module = gpytorch.kernels.ScaleKernel(\n",
    "            gpytorch.kernels.MaternKernel(nu=2.5, ard_num_dims=2)\n",
    "        )\n",
    "\n",
    "    def forward(self, x):\n",
    "        mean_x = self.mean_module(x)\n",
    "        covar_x = self.covar_module(x)\n",
    "        return gpytorch.distributions.MultivariateNormal(mean_x, covar_x)\n",
    "\n",
    "\n",
    "def fit_gp_model(train_x, train_y, num_train_iters=500):\n",
    "    # declare the GP\n",
    "    noise = 1e-4\n",
    "\n",
    "    likelihood = gpytorch.likelihoods.GaussianLikelihood()\n",
    "    model = GPModel(train_x, train_y, likelihood)\n",
    "    model.likelihood.noise = noise\n",
    "\n",
    "    # train the hyperparameter (the constant)\n",
    "    optimizer = torch.optim.Adam(model.parameters(), lr=0.01)\n",
    "    mll = gpytorch.mlls.ExactMarginalLogLikelihood(likelihood, model)\n",
    "\n",
    "    model.train()\n",
    "    likelihood.train()\n",
    "\n",
    "    for i in range(num_train_iters):\n",
    "        optimizer.zero_grad()\n",
    "\n",
    "        output = model(train_x)\n",
    "        loss = -mll(output, train_y)\n",
    "\n",
    "        loss.backward()\n",
    "        optimizer.step()\n",
    "\n",
    "    model.eval()\n",
    "    likelihood.eval()\n",
    "\n",
    "    return model, likelihood"
   ]
  },
  {
   "cell_type": "markdown",
   "metadata": {},
   "source": [
    "# repeated experiments"
   ]
  },
  {
   "cell_type": "markdown",
   "metadata": {},
   "source": [
    "## MES"
   ]
  },
  {
   "cell_type": "code",
   "execution_count": 5,
   "metadata": {},
   "outputs": [
    {
     "name": "stdout",
     "output_type": "stream",
     "text": [
      "trial 0\n"
     ]
    },
    {
     "data": {
      "application/vnd.jupyter.widget-view+json": {
       "model_id": "b7325f83e3714bc48e10165db5bb48b2",
       "version_major": 2,
       "version_minor": 0
      },
      "text/plain": [
       "  0%|          | 0/20 [00:00<?, ?it/s]"
      ]
     },
     "metadata": {},
     "output_type": "display_data"
    },
    {
     "name": "stdout",
     "output_type": "stream",
     "text": [
      "trial 1\n"
     ]
    },
    {
     "data": {
      "application/vnd.jupyter.widget-view+json": {
       "model_id": "557c19bca31a4547b84eb7cccc7f61df",
       "version_major": 2,
       "version_minor": 0
      },
      "text/plain": [
       "  0%|          | 0/20 [00:00<?, ?it/s]"
      ]
     },
     "metadata": {},
     "output_type": "display_data"
    },
    {
     "name": "stdout",
     "output_type": "stream",
     "text": [
      "trial 2\n"
     ]
    },
    {
     "data": {
      "application/vnd.jupyter.widget-view+json": {
       "model_id": "bd3e203925f24947979800774f039119",
       "version_major": 2,
       "version_minor": 0
      },
      "text/plain": [
       "  0%|          | 0/20 [00:00<?, ?it/s]"
      ]
     },
     "metadata": {},
     "output_type": "display_data"
    },
    {
     "name": "stdout",
     "output_type": "stream",
     "text": [
      "trial 3\n"
     ]
    },
    {
     "data": {
      "application/vnd.jupyter.widget-view+json": {
       "model_id": "23f831aee0ca4d77847d1c94b288405e",
       "version_major": 2,
       "version_minor": 0
      },
      "text/plain": [
       "  0%|          | 0/20 [00:00<?, ?it/s]"
      ]
     },
     "metadata": {},
     "output_type": "display_data"
    },
    {
     "name": "stdout",
     "output_type": "stream",
     "text": [
      "trial 4\n"
     ]
    },
    {
     "data": {
      "application/vnd.jupyter.widget-view+json": {
       "model_id": "e96db1bca4cb4cdf92487055b39ed799",
       "version_major": 2,
       "version_minor": 0
      },
      "text/plain": [
       "  0%|          | 0/20 [00:00<?, ?it/s]"
      ]
     },
     "metadata": {},
     "output_type": "display_data"
    },
    {
     "name": "stdout",
     "output_type": "stream",
     "text": [
      "trial 5\n"
     ]
    },
    {
     "data": {
      "application/vnd.jupyter.widget-view+json": {
       "model_id": "eb147afba11e4b648db5e16303c24c93",
       "version_major": 2,
       "version_minor": 0
      },
      "text/plain": [
       "  0%|          | 0/20 [00:00<?, ?it/s]"
      ]
     },
     "metadata": {},
     "output_type": "display_data"
    },
    {
     "name": "stdout",
     "output_type": "stream",
     "text": [
      "trial 6\n"
     ]
    },
    {
     "data": {
      "application/vnd.jupyter.widget-view+json": {
       "model_id": "0b03a6f4918a44d2b064b3353e19d74e",
       "version_major": 2,
       "version_minor": 0
      },
      "text/plain": [
       "  0%|          | 0/20 [00:00<?, ?it/s]"
      ]
     },
     "metadata": {},
     "output_type": "display_data"
    },
    {
     "name": "stdout",
     "output_type": "stream",
     "text": [
      "trial 7\n"
     ]
    },
    {
     "data": {
      "application/vnd.jupyter.widget-view+json": {
       "model_id": "b8df6a19a294404fbe97088df868d1dc",
       "version_major": 2,
       "version_minor": 0
      },
      "text/plain": [
       "  0%|          | 0/20 [00:00<?, ?it/s]"
      ]
     },
     "metadata": {},
     "output_type": "display_data"
    },
    {
     "name": "stdout",
     "output_type": "stream",
     "text": [
      "trial 8\n"
     ]
    },
    {
     "data": {
      "application/vnd.jupyter.widget-view+json": {
       "model_id": "ce2340d1f91f4404b01c2ec86bda45e6",
       "version_major": 2,
       "version_minor": 0
      },
      "text/plain": [
       "  0%|          | 0/20 [00:00<?, ?it/s]"
      ]
     },
     "metadata": {},
     "output_type": "display_data"
    },
    {
     "name": "stdout",
     "output_type": "stream",
     "text": [
      "trial 9\n"
     ]
    },
    {
     "data": {
      "application/vnd.jupyter.widget-view+json": {
       "model_id": "b9ee6403781b45518803df695e758d9c",
       "version_major": 2,
       "version_minor": 0
      },
      "text/plain": [
       "  0%|          | 0/20 [00:00<?, ?it/s]"
      ]
     },
     "metadata": {},
     "output_type": "display_data"
    }
   ],
   "source": [
    "num_candidates = 2000\n",
    "num_repeats = 10\n",
    "\n",
    "incumbents = torch.zeros((num_repeats, num_queries))\n",
    "\n",
    "for trial in range(num_repeats):\n",
    "    print(\"trial\", trial)\n",
    "\n",
    "    torch.manual_seed(trial)\n",
    "    train_x = bounds[0] + (bounds[1] - bounds[0]) * torch.rand(1, 2)\n",
    "    train_y = f(train_x)\n",
    "\n",
    "    for i in tqdm(range(num_queries)):\n",
    "        incumbents[trial, i] = train_y.max()\n",
    "\n",
    "        sobol = torch.quasirandom.SobolEngine(1, scramble=True)\n",
    "        candidate_x = sobol.draw(num_candidates)\n",
    "        candidate_x = bounds[0] + (bounds[1] - bounds[0]) * candidate_x\n",
    "\n",
    "        model, likelihood = fit_gp_model(train_x, train_y)\n",
    "\n",
    "        policy = botorch.acquisition.max_value_entropy_search.qMaxValueEntropy(\n",
    "            model, candidate_x\n",
    "        )\n",
    "        \n",
    "        with warnings.catch_warnings():\n",
    "            warnings.filterwarnings('ignore', category=RuntimeWarning)\n",
    "            next_x, acq_val = botorch.optim.optimize_acqf(\n",
    "                policy,\n",
    "                bounds=bounds,\n",
    "                q=1,\n",
    "                num_restarts=40,\n",
    "                raw_samples=100,\n",
    "            )\n",
    "\n",
    "        next_y = f(next_x)\n",
    "\n",
    "        train_x = torch.cat([train_x, next_x])\n",
    "        train_y = torch.cat([train_y, next_y])"
   ]
  },
  {
   "cell_type": "code",
   "execution_count": 6,
   "metadata": {},
   "outputs": [],
   "source": [
    "torch.save(incumbents, \"../data/hyperparam_tuning/mes.pth\")"
   ]
  },
  {
   "cell_type": "markdown",
   "metadata": {},
   "source": [
    "# Visualization"
   ]
  },
  {
   "cell_type": "code",
   "execution_count": 7,
   "metadata": {},
   "outputs": [],
   "source": [
    "import numpy as np"
   ]
  },
  {
   "cell_type": "code",
   "execution_count": 10,
   "metadata": {},
   "outputs": [
    {
     "data": {
      "image/png": "[encoded data removed]",
      "text/plain": [
       "<Figure size 800x600 with 1 Axes>"
      ]
     },
     "metadata": {},
     "output_type": "display_data"
    }
   ],
   "source": [
    "num_repeats = 10\n",
    "\n",
    "\n",
    "def show_agg_progress(path, name, linestyle=\"solid\"):\n",
    "    def ci(y):\n",
    "        return 2 * y.std(axis=0) / np.sqrt(num_repeats)\n",
    "\n",
    "    incumbents = torch.load(path)\n",
    "    avg_incumbent = incumbents.mean(axis=0)\n",
    "    ci_incumbent = ci(incumbents)\n",
    "\n",
    "    plt.plot(avg_incumbent, linestyle=linestyle, label=name)\n",
    "    plt.fill_between(\n",
    "        np.arange(num_queries),\n",
    "        avg_incumbent + ci_incumbent,\n",
    "        avg_incumbent - ci_incumbent,\n",
    "        alpha=0.3,\n",
    "    )\n",
    "\n",
    "\n",
    "plt.figure(figsize=(8, 6))\n",
    "\n",
    "show_agg_progress(\"../data/hyperparam_tuning/ei.pth\", \"EI\", linestyle=\"dotted\")\n",
    "\n",
    "show_agg_progress(\n",
    "    \"../data/hyperparam_tuning/ucb_10.pth\",\n",
    "    \"UCB\" + r\"$(\\beta = 10)$\",\n",
    "    linestyle=\"dashed\",\n",
    ")\n",
    "\n",
    "\n",
    "show_agg_progress(\"../data/hyperparam_tuning/ts.pth\", \"TS\")\n",
    "\n",
    "show_agg_progress(\"../data/hyperparam_tuning/mes.pth\", \"MES\")\n",
    "\n",
    "plt.xlabel(\"# queries\")\n",
    "plt.ylabel(\"accuracy\")\n",
    "\n",
    "plt.legend()\n",
    "\n",
    "plt.show()"
   ]
  }
 ],
 "metadata": {
  "kernelspec": {
   "display_name": "Python 3",
   "language": "python",
   "name": "python3"
  },
  "language_info": {
   "codemirror_mode": {
    "name": "ipython",
    "version": 3
   },
   "file_extension": ".py",
   "mimetype": "text/x-python",
   "name": "python",
   "nbconvert_exporter": "python",
   "pygments_lexer": "ipython3",
   "version": "3.10.13"
  }
 },
 "nbformat": 4,
 "nbformat_minor": 2
}
